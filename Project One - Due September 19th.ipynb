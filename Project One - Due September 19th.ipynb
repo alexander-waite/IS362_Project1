{
 "cells": [
  {
   "cell_type": "code",
   "execution_count": 66,
   "id": "96bf3625",
   "metadata": {},
   "outputs": [],
   "source": [
    "import pandas as pd\n",
    "import numpy as np"
   ]
  },
  {
   "cell_type": "code",
   "execution_count": 67,
   "id": "5c0a7792",
   "metadata": {},
   "outputs": [],
   "source": [
    "AirportData = pd.read_csv('project1.csv')\n",
    "AirportData.columns =['Airlines','Status',AirportData.columns[2],AirportData.columns[3],AirportData.columns[4],AirportData.columns[5],AirportData.columns[6]]"
   ]
  },
  {
   "cell_type": "code",
   "execution_count": 68,
   "id": "88bd2698",
   "metadata": {},
   "outputs": [
    {
     "data": {
      "text/plain": [
       "pandas.core.frame.DataFrame"
      ]
     },
     "execution_count": 68,
     "metadata": {},
     "output_type": "execute_result"
    }
   ],
   "source": [
    "type(AirportData)"
   ]
  },
  {
   "cell_type": "markdown",
   "id": "7f78095c",
   "metadata": {},
   "source": [
    "#### Airport Data with raw headers"
   ]
  },
  {
   "cell_type": "code",
   "execution_count": 69,
   "id": "4abd2cb1",
   "metadata": {},
   "outputs": [
    {
     "data": {
      "text/html": [
       "<div>\n",
       "<style scoped>\n",
       "    .dataframe tbody tr th:only-of-type {\n",
       "        vertical-align: middle;\n",
       "    }\n",
       "\n",
       "    .dataframe tbody tr th {\n",
       "        vertical-align: top;\n",
       "    }\n",
       "\n",
       "    .dataframe thead th {\n",
       "        text-align: right;\n",
       "    }\n",
       "</style>\n",
       "<table border=\"1\" class=\"dataframe\">\n",
       "  <thead>\n",
       "    <tr style=\"text-align: right;\">\n",
       "      <th></th>\n",
       "      <th>Airlines</th>\n",
       "      <th>Status</th>\n",
       "      <th>Los Angeles</th>\n",
       "      <th>Phoenix</th>\n",
       "      <th>San Diego</th>\n",
       "      <th>San Francisco</th>\n",
       "      <th>Seattle</th>\n",
       "    </tr>\n",
       "  </thead>\n",
       "  <tbody>\n",
       "    <tr>\n",
       "      <th>0</th>\n",
       "      <td>ALASKA</td>\n",
       "      <td>on time</td>\n",
       "      <td>479.0</td>\n",
       "      <td>221.0</td>\n",
       "      <td>212.0</td>\n",
       "      <td>503.0</td>\n",
       "      <td>1841.0</td>\n",
       "    </tr>\n",
       "    <tr>\n",
       "      <th>1</th>\n",
       "      <td>NaN</td>\n",
       "      <td>delayed</td>\n",
       "      <td>62.0</td>\n",
       "      <td>12.0</td>\n",
       "      <td>20.0</td>\n",
       "      <td>102.0</td>\n",
       "      <td>305.0</td>\n",
       "    </tr>\n",
       "    <tr>\n",
       "      <th>2</th>\n",
       "      <td>NaN</td>\n",
       "      <td>NaN</td>\n",
       "      <td>NaN</td>\n",
       "      <td>NaN</td>\n",
       "      <td>NaN</td>\n",
       "      <td>NaN</td>\n",
       "      <td>NaN</td>\n",
       "    </tr>\n",
       "    <tr>\n",
       "      <th>3</th>\n",
       "      <td>AM WEST</td>\n",
       "      <td>on time</td>\n",
       "      <td>694.0</td>\n",
       "      <td>4840.0</td>\n",
       "      <td>383.0</td>\n",
       "      <td>320.0</td>\n",
       "      <td>201.0</td>\n",
       "    </tr>\n",
       "    <tr>\n",
       "      <th>4</th>\n",
       "      <td>NaN</td>\n",
       "      <td>delayed</td>\n",
       "      <td>117.0</td>\n",
       "      <td>415.0</td>\n",
       "      <td>65.0</td>\n",
       "      <td>129.0</td>\n",
       "      <td>61.0</td>\n",
       "    </tr>\n",
       "  </tbody>\n",
       "</table>\n",
       "</div>"
      ],
      "text/plain": [
       "  Airlines   Status  Los Angeles  Phoenix  San Diego  San Francisco  Seattle\n",
       "0   ALASKA  on time        479.0    221.0      212.0          503.0   1841.0\n",
       "1      NaN  delayed         62.0     12.0       20.0          102.0    305.0\n",
       "2      NaN      NaN          NaN      NaN        NaN            NaN      NaN\n",
       "3  AM WEST  on time        694.0   4840.0      383.0          320.0    201.0\n",
       "4      NaN  delayed        117.0    415.0       65.0          129.0     61.0"
      ]
     },
     "execution_count": 69,
     "metadata": {},
     "output_type": "execute_result"
    }
   ],
   "source": [
    "AirportData"
   ]
  },
  {
   "cell_type": "markdown",
   "id": "5ea58659",
   "metadata": {},
   "source": [
    "#### Renaming Headers and dropping the NaN row"
   ]
  },
  {
   "cell_type": "code",
   "execution_count": 70,
   "id": "22341b57",
   "metadata": {},
   "outputs": [],
   "source": [
    "AirportData = AirportData.dropna(how='all')"
   ]
  },
  {
   "cell_type": "markdown",
   "id": "f8b44bda",
   "metadata": {},
   "source": [
    "#### Replace cells NaN with respective values ALASKA and AM WEST"
   ]
  },
  {
   "cell_type": "code",
   "execution_count": 71,
   "id": "bc9bab3b",
   "metadata": {},
   "outputs": [],
   "source": [
    "AirportData.at[1,'Airlines'] = 'ALASKA'\n",
    "AirportData.at[4,'Airlines'] = 'AM WEST'"
   ]
  },
  {
   "cell_type": "code",
   "execution_count": 72,
   "id": "30e8e5ac",
   "metadata": {},
   "outputs": [
    {
     "data": {
      "text/html": [
       "<div>\n",
       "<style scoped>\n",
       "    .dataframe tbody tr th:only-of-type {\n",
       "        vertical-align: middle;\n",
       "    }\n",
       "\n",
       "    .dataframe tbody tr th {\n",
       "        vertical-align: top;\n",
       "    }\n",
       "\n",
       "    .dataframe thead th {\n",
       "        text-align: right;\n",
       "    }\n",
       "</style>\n",
       "<table border=\"1\" class=\"dataframe\">\n",
       "  <thead>\n",
       "    <tr style=\"text-align: right;\">\n",
       "      <th></th>\n",
       "      <th>Airlines</th>\n",
       "      <th>Status</th>\n",
       "      <th>Los Angeles</th>\n",
       "      <th>Phoenix</th>\n",
       "      <th>San Diego</th>\n",
       "      <th>San Francisco</th>\n",
       "      <th>Seattle</th>\n",
       "    </tr>\n",
       "  </thead>\n",
       "  <tbody>\n",
       "    <tr>\n",
       "      <th>0</th>\n",
       "      <td>ALASKA</td>\n",
       "      <td>on time</td>\n",
       "      <td>479.0</td>\n",
       "      <td>221.0</td>\n",
       "      <td>212.0</td>\n",
       "      <td>503.0</td>\n",
       "      <td>1841.0</td>\n",
       "    </tr>\n",
       "    <tr>\n",
       "      <th>1</th>\n",
       "      <td>ALASKA</td>\n",
       "      <td>delayed</td>\n",
       "      <td>62.0</td>\n",
       "      <td>12.0</td>\n",
       "      <td>20.0</td>\n",
       "      <td>102.0</td>\n",
       "      <td>305.0</td>\n",
       "    </tr>\n",
       "    <tr>\n",
       "      <th>3</th>\n",
       "      <td>AM WEST</td>\n",
       "      <td>on time</td>\n",
       "      <td>694.0</td>\n",
       "      <td>4840.0</td>\n",
       "      <td>383.0</td>\n",
       "      <td>320.0</td>\n",
       "      <td>201.0</td>\n",
       "    </tr>\n",
       "    <tr>\n",
       "      <th>4</th>\n",
       "      <td>AM WEST</td>\n",
       "      <td>delayed</td>\n",
       "      <td>117.0</td>\n",
       "      <td>415.0</td>\n",
       "      <td>65.0</td>\n",
       "      <td>129.0</td>\n",
       "      <td>61.0</td>\n",
       "    </tr>\n",
       "  </tbody>\n",
       "</table>\n",
       "</div>"
      ],
      "text/plain": [
       "  Airlines   Status  Los Angeles  Phoenix  San Diego  San Francisco  Seattle\n",
       "0   ALASKA  on time        479.0    221.0      212.0          503.0   1841.0\n",
       "1   ALASKA  delayed         62.0     12.0       20.0          102.0    305.0\n",
       "3  AM WEST  on time        694.0   4840.0      383.0          320.0    201.0\n",
       "4  AM WEST  delayed        117.0    415.0       65.0          129.0     61.0"
      ]
     },
     "execution_count": 72,
     "metadata": {},
     "output_type": "execute_result"
    }
   ],
   "source": [
    "AirportData"
   ]
  },
  {
   "cell_type": "code",
   "execution_count": 73,
   "id": "e013d916",
   "metadata": {},
   "outputs": [
    {
     "name": "stderr",
     "output_type": "stream",
     "text": [
      "/tmp/ipykernel_9310/3822950228.py:1: SettingWithCopyWarning: \n",
      "A value is trying to be set on a copy of a slice from a DataFrame.\n",
      "Try using .loc[row_indexer,col_indexer] = value instead\n",
      "\n",
      "See the caveats in the documentation: https://pandas.pydata.org/pandas-docs/stable/user_guide/indexing.html#returning-a-view-versus-a-copy\n",
      "  AirportData['Airlines'] = AirportData['Airlines'] +' '+ AirportData['Status']\n"
     ]
    }
   ],
   "source": [
    "AirportData['Airlines'] = AirportData['Airlines'] +' '+ AirportData['Status']"
   ]
  },
  {
   "cell_type": "code",
   "execution_count": 74,
   "id": "51d95255",
   "metadata": {},
   "outputs": [
    {
     "data": {
      "text/html": [
       "<div>\n",
       "<style scoped>\n",
       "    .dataframe tbody tr th:only-of-type {\n",
       "        vertical-align: middle;\n",
       "    }\n",
       "\n",
       "    .dataframe tbody tr th {\n",
       "        vertical-align: top;\n",
       "    }\n",
       "\n",
       "    .dataframe thead th {\n",
       "        text-align: right;\n",
       "    }\n",
       "</style>\n",
       "<table border=\"1\" class=\"dataframe\">\n",
       "  <thead>\n",
       "    <tr style=\"text-align: right;\">\n",
       "      <th></th>\n",
       "      <th>Airlines</th>\n",
       "      <th>Status</th>\n",
       "      <th>Los Angeles</th>\n",
       "      <th>Phoenix</th>\n",
       "      <th>San Diego</th>\n",
       "      <th>San Francisco</th>\n",
       "      <th>Seattle</th>\n",
       "    </tr>\n",
       "  </thead>\n",
       "  <tbody>\n",
       "    <tr>\n",
       "      <th>0</th>\n",
       "      <td>ALASKA on time</td>\n",
       "      <td>on time</td>\n",
       "      <td>479.0</td>\n",
       "      <td>221.0</td>\n",
       "      <td>212.0</td>\n",
       "      <td>503.0</td>\n",
       "      <td>1841.0</td>\n",
       "    </tr>\n",
       "    <tr>\n",
       "      <th>1</th>\n",
       "      <td>ALASKA delayed</td>\n",
       "      <td>delayed</td>\n",
       "      <td>62.0</td>\n",
       "      <td>12.0</td>\n",
       "      <td>20.0</td>\n",
       "      <td>102.0</td>\n",
       "      <td>305.0</td>\n",
       "    </tr>\n",
       "    <tr>\n",
       "      <th>3</th>\n",
       "      <td>AM WEST on time</td>\n",
       "      <td>on time</td>\n",
       "      <td>694.0</td>\n",
       "      <td>4840.0</td>\n",
       "      <td>383.0</td>\n",
       "      <td>320.0</td>\n",
       "      <td>201.0</td>\n",
       "    </tr>\n",
       "    <tr>\n",
       "      <th>4</th>\n",
       "      <td>AM WEST delayed</td>\n",
       "      <td>delayed</td>\n",
       "      <td>117.0</td>\n",
       "      <td>415.0</td>\n",
       "      <td>65.0</td>\n",
       "      <td>129.0</td>\n",
       "      <td>61.0</td>\n",
       "    </tr>\n",
       "  </tbody>\n",
       "</table>\n",
       "</div>"
      ],
      "text/plain": [
       "          Airlines   Status  Los Angeles  Phoenix  San Diego  San Francisco  \\\n",
       "0   ALASKA on time  on time        479.0    221.0      212.0          503.0   \n",
       "1   ALASKA delayed  delayed         62.0     12.0       20.0          102.0   \n",
       "3  AM WEST on time  on time        694.0   4840.0      383.0          320.0   \n",
       "4  AM WEST delayed  delayed        117.0    415.0       65.0          129.0   \n",
       "\n",
       "   Seattle  \n",
       "0   1841.0  \n",
       "1    305.0  \n",
       "3    201.0  \n",
       "4     61.0  "
      ]
     },
     "execution_count": 74,
     "metadata": {},
     "output_type": "execute_result"
    }
   ],
   "source": [
    "AirportData"
   ]
  },
  {
   "cell_type": "markdown",
   "id": "e283e2c4",
   "metadata": {},
   "source": [
    "https://pandas.pydata.org/pandas-docs/stable/reference/api/pandas.DataFrame.loc.html?highlight=loc#pandas.DataFrame.loc"
   ]
  },
  {
   "cell_type": "code",
   "execution_count": null,
   "id": "ad5cdd75",
   "metadata": {},
   "outputs": [],
   "source": []
  }
 ],
 "metadata": {
  "kernelspec": {
   "display_name": "Python 3 (ipykernel)",
   "language": "python",
   "name": "python3"
  },
  "language_info": {
   "codemirror_mode": {
    "name": "ipython",
    "version": 3
   },
   "file_extension": ".py",
   "mimetype": "text/x-python",
   "name": "python",
   "nbconvert_exporter": "python",
   "pygments_lexer": "ipython3",
   "version": "3.9.6"
  }
 },
 "nbformat": 4,
 "nbformat_minor": 5
}
